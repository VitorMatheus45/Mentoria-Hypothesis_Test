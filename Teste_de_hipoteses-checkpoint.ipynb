{
 "cells": [
  {
   "cell_type": "markdown",
   "metadata": {
    "id": "QwEcr3BxdVXo"
   },
   "source": [
    "# Teste de hipóteses"
   ]
  },
  {
   "cell_type": "markdown",
   "metadata": {},
   "source": [
    "## Fontes"
   ]
  },
  {
   "cell_type": "markdown",
   "metadata": {},
   "source": [
    "* http://joinville.ifsc.edu.br/~joni.fusinato/Eng%20Mec/Aulas/Aula%2012%20-%20Teste%20de%20Hip%C3%B3tese.pdf\n",
    "* https://www.voitto.com.br/blog/artigo/teste-de-hipotese\n",
    "* https://towardsdatascience.com/everything-you-need-to-know-about-hypothesis-testing-part-i-4de9abebbc8a"
   ]
  },
  {
   "cell_type": "markdown",
   "metadata": {
    "ExecuteTime": {
     "end_time": "2022-04-12T01:17:53.522705Z",
     "start_time": "2022-04-12T01:17:53.507403Z"
    }
   },
   "source": [
    "## 1.0. O que é um teste de hipóteses?"
   ]
  },
  {
   "cell_type": "markdown",
   "metadata": {},
   "source": [
    "* O teste de hipótese é uma ferramenta estatística baseada na utilização de uma amostra aleatória extraída de uma população de interesse, com o objetivo de testar uma afirmação sobre um parâmetro ou característica desta população. Ou seja, no campo da inferência estatística, para saber se uma amostra é uma boa representação da população, usa-se o teste de hipóteses."
   ]
  },
  {
   "cell_type": "markdown",
   "metadata": {},
   "source": [
    "<img src='Teste_Hipóteses.png' style=\"width:500px;height:300px\"/>"
   ]
  },
  {
   "cell_type": "markdown",
   "metadata": {},
   "source": [
    "### 1.1. Terminologia que devemos estar cientes no teste de hipóteses"
   ]
  },
  {
   "cell_type": "markdown",
   "metadata": {},
   "source": [
    "#### 1.1.1. Parâmetro e estatística:"
   ]
  },
  {
   "cell_type": "markdown",
   "metadata": {},
   "source": [
    "* Um **parâmetro** é uma descrição resumida de uma característica fixa ou medida da população-alvo. Um parâmetro denota o valor real que seria obtido se um censo em vez de uma amostra fosse realizado\n",
    "    - Ex: Média (μ), Variância (σ²), Desvio Padrão (σ), Proporção (π)\n",
    "    \n",
    "\n",
    "* **População**: População é uma coleção de objetos que queremos estudar/testar. A coleção de objetos pode ser Cidades, Estudantes, Fábricas, etc. Depende do estudo em questão.\n",
    "\n",
    "\n",
    "* Uma **estatística** é uma descrição resumida de uma característica ou medida da amostra. A estatística da amostra é usada como uma estimativa do parâmetro populacional.\n",
    "    - Ex: Média da Amostra (x̄), Variação da Amostra (S²), Desvio Padrão da Amostra (S), Proporção da Amostra (p)"
   ]
  },
  {
   "cell_type": "markdown",
   "metadata": {},
   "source": [
    "<img src='Parametro-estatística.png' style=\"width:400px;height:200px\"/>"
   ]
  },
  {
   "cell_type": "markdown",
   "metadata": {},
   "source": [
    "#### 1.1.2. Distribuição de amostras:"
   ]
  },
  {
   "cell_type": "markdown",
   "metadata": {},
   "source": [
    "* Uma Distribuição de amostras é uma distribuição de probabilidade de uma estatística obtida através de um grande número de amostras retiradas de uma população específica.\n",
    "    - Ex: Suponha que uma amostra aleatória simples de cinco hospitais seja retirada de uma população de 20 hospitais. As possibilidades podem ser (20, 19, 18, 17, 16) ou (1,2,4,7,8) ou qualquer uma das 15.504 diferentes amostras de tamanho 5 podem ser extraídas."
   ]
  },
  {
   "cell_type": "markdown",
   "metadata": {
    "ExecuteTime": {
     "end_time": "2022-04-12T02:08:59.392593Z",
     "start_time": "2022-04-12T02:08:59.382195Z"
    }
   },
   "source": [
    "#### 1.1.3. Erro Padrão (SE):"
   ]
  },
  {
   "cell_type": "markdown",
   "metadata": {},
   "source": [
    "* O erro padrão (SE) é muito semelhante ao desvio padrão. Ambas são medidas de propagação. Quanto maior o número, mais espalhados são seus dados. Para simplificar, os dois termos são essencialmente iguais – mas há uma diferença importante. Enquanto o erro padrão usa estatísticas (dados da amostra), o desvio padrão usa parâmetros (dados da população).\n",
    "    - O erro padrão informa até que ponto sua estatística amostral (como a média amostral) se desvia da média populacional real. Quanto maior o tamanho da amostra, menor o SE. Em outras palavras, quanto maior o tamanho da amostra, mais próxima a média amostral está da média populacional real."
   ]
  },
  {
   "cell_type": "markdown",
   "metadata": {},
   "source": [
    "#### 1.1.4. Hipótese Nula H0:"
   ]
  },
  {
   "cell_type": "markdown",
   "metadata": {},
   "source": [
    "* É uma afirmação a respeito do valor do parâmetro populacional que deve ser testada. Uma declaração na qual nenhuma diferença ou efeito é esperado. Se a hipótese nula não for rejeitada, nenhuma alteração será feita."
   ]
  },
  {
   "cell_type": "markdown",
   "metadata": {},
   "source": [
    "#### 1.1.5. Hipótese Alternativa H1:"
   ]
  },
  {
   "cell_type": "markdown",
   "metadata": {},
   "source": [
    "* É uma afirmação a respeito do parâmetro que aceitaremos como provavelmente verdadeiro caso H0 seja rejeitada. Uma declaração de que alguma diferença ou efeito é esperado. Aceitar a hipótese alternativa levará a mudanças nas opiniões ou ações. É o oposto da hipótese nula."
   ]
  },
  {
   "cell_type": "markdown",
   "metadata": {
    "ExecuteTime": {
     "end_time": "2022-04-12T02:18:57.809475Z",
     "start_time": "2022-04-12T02:18:57.801000Z"
    }
   },
   "source": [
    "#### 1.1.6. Teste Unilateral: "
   ]
  },
  {
   "cell_type": "markdown",
   "metadata": {},
   "source": [
    "* Um teste unilateral é um teste de hipótese estatística no qual a área crítica de uma distribuição é unilateral, de modo que é maior ou menor que um determinado valor, mas não ambos. Se a amostra testada cair na área crítica unilateral, a hipótese alternativa será aceita em vez da hipótese nula.\n",
    "\n",
    "\n",
    "     - Região Crítica: A região crítica é a região de valores que corresponde à rejeição da hipótese nula em algum nível de probabilidade escolhido."
   ]
  },
  {
   "cell_type": "markdown",
   "metadata": {
    "ExecuteTime": {
     "end_time": "2022-04-12T02:24:10.469423Z",
     "start_time": "2022-04-12T02:24:10.453436Z"
    }
   },
   "source": [
    "<img src='Regiao_Critica.png' style=\"width:450px;height:200px\"/>"
   ]
  },
  {
   "cell_type": "markdown",
   "metadata": {
    "ExecuteTime": {
     "end_time": "2022-04-12T02:20:27.866493Z",
     "start_time": "2022-04-12T02:20:27.855049Z"
    }
   },
   "source": [
    "#### 1.1.7. Teste Bilateral: "
   ]
  },
  {
   "cell_type": "markdown",
   "metadata": {},
   "source": [
    "* Um teste bilateral é um método no qual a área crítica de uma distribuição é bilateral e testa se uma amostra é maior ou menor que um determinado intervalo de valores. Se a amostra testada se enquadrar em qualquer uma das áreas críticas, a hipótese alternativa é aceita em vez da hipótese nula.\n",
    "\n",
    "\n",
    "    - Por convenção, os testes bilaterais são usados para determinar a significância no nível de 5%, o que significa que cada lado da distribuição é cortado em 2,5%."
   ]
  },
  {
   "cell_type": "markdown",
   "metadata": {
    "ExecuteTime": {
     "end_time": "2022-04-12T02:21:29.088168Z",
     "start_time": "2022-04-12T02:21:29.072046Z"
    }
   },
   "source": [
    "<img src='Teste_unilateral_bilateral.png' style=\"width:500px;height:350px\"/>"
   ]
  },
  {
   "cell_type": "markdown",
   "metadata": {},
   "source": [
    "#### 1.1.8. Estatística de teste:  "
   ]
  },
  {
   "cell_type": "markdown",
   "metadata": {},
   "source": [
    "* A estatística de teste mede o quão perto a amostra chegou da hipótese nula. Seu valor observado muda aleatoriamente de uma amostra aleatória para uma amostra diferente. Uma estatística de teste contém informações sobre os dados que são relevantes para decidir se a hipótese nula deve ser rejeitada ou não.\n",
    "\n",
    "* Testes de hipóteses diferentes usam estatísticas de teste diferentes com base no modelo de probabilidade assumido na hipótese nula. Testes comuns e suas estatísticas de teste incluem:\n",
    "\n",
    "<img src='Test_statistic.png' style=\"width:300px;height:150px\"/>\n",
    "\n",
    "\n",
    "* Em geral, os dados da amostra devem fornecer evidências suficientes para rejeitar a hipótese nula e concluir que o efeito existe na população. Idealmente, um teste de hipótese falha em rejeitar a hipótese nula quando o efeito não está presente na população e rejeita a hipótese nula quando o efeito existe."
   ]
  },
  {
   "cell_type": "markdown",
   "metadata": {},
   "source": [
    "#### 1.1.9. Erro do tipo I:  "
   ]
  },
  {
   "cell_type": "markdown",
   "metadata": {},
   "source": [
    "* Probabilidade de se rejeitar a hipótese nula quando ela é verdadeira. Também é conhecido como **Nível de Significância (alpha)**. Quando não é mencionado adota-se alpha=5%. Os valores comuns para alpha são 5% e 1%. \n",
    "\n",
    "* Erros do tipo I são equivalentes a falsos positivos."
   ]
  },
  {
   "cell_type": "markdown",
   "metadata": {},
   "source": [
    "#### 1.1.10. Erro do tipo II:  "
   ]
  },
  {
   "cell_type": "markdown",
   "metadata": {},
   "source": [
    "* Probabilidade de se rejeitar a hipótese alternativa quando ela é verdadeira.\n",
    "\n",
    "* Erros do tipo II são equivalentes a falsos negativos."
   ]
  },
  {
   "cell_type": "markdown",
   "metadata": {},
   "source": [
    "<img src='Tipos_erros.png' style=\"width:500px;height:300px\"/>"
   ]
  },
  {
   "cell_type": "markdown",
   "metadata": {},
   "source": [
    "#### 1.1.11. Nível de significância (α):"
   ]
  },
  {
   "cell_type": "markdown",
   "metadata": {},
   "source": [
    "* A probabilidade de cometer um erro do Tipo-I e é denotada por alfa (α). Alfa é a probabilidade máxima de que tenhamos um erro tipo I. Para um nível de confiança de 95%, o valor de alfa é 0,05. Isso significa que há uma probabilidade de 5% de rejeitarmos uma hipótese nula verdadeira."
   ]
  },
  {
   "cell_type": "markdown",
   "metadata": {},
   "source": [
    "#### 1.1.12. P-Valor:"
   ]
  },
  {
   "cell_type": "markdown",
   "metadata": {},
   "source": [
    "* Valor utilizado para determinar a significância estatística em um teste de hipótese.\n",
    "\n",
    "\n",
    "* Em outras palavras, dada a hipótese nula ser verdadeira, um P-Valor é uma probabilidade de obter um resultado tão ou mais extremo do que o resultado da amostra apenas por acaso.\n",
    "\n",
    "\n",
    "* O P-Valor é usado em todas as estatísticas, desde testes t até análises de regressão simples e modelos baseados em árvore em quase todos os modelos de aprendizado de máquina. Apesar de ser tão importante, o valor P é um conceito escorregadio que as pessoas muitas vezes interpretam incorretamente."
   ]
  },
  {
   "cell_type": "markdown",
   "metadata": {},
   "source": [
    "## Por que usar o teste de hipóteses?"
   ]
  },
  {
   "cell_type": "code",
   "execution_count": null,
   "metadata": {},
   "outputs": [],
   "source": []
  },
  {
   "cell_type": "markdown",
   "metadata": {},
   "source": [
    "## Quando utilizar um teste de hipótese?"
   ]
  },
  {
   "cell_type": "markdown",
   "metadata": {},
   "source": [
    "* Sempre que queremos fazer afirmações sobre a distribuição de dados ou se um conjunto de resultados é diferente de outro conjunto de resultados em aprendizado de máquina aplicado, devemos confiar em testes estatísticos de hipóteses."
   ]
  },
  {
   "cell_type": "code",
   "execution_count": null,
   "metadata": {},
   "outputs": [],
   "source": []
  },
  {
   "cell_type": "code",
   "execution_count": null,
   "metadata": {},
   "outputs": [],
   "source": []
  },
  {
   "cell_type": "markdown",
   "metadata": {
    "id": "GG_PPIMkdVXs"
   },
   "source": [
    "**Exemplo**: Uma fábrica anuncia que o índice de nicotina dos cigarros de uma dada marca é igual a 20 mg por cigarro. Um laboratório realiza 20 análises do índice obtendo: 22, 19, 21, 22, 20, 18, 27, 20, 21, 19, 20, 22, 17, 20, 21,18, 25, 16, 20, 21. Sabe-se que o índice de nicotina dos cigarros dessa marca se distribui normalmente com variância 4 mg$^2$. Pode-se aceitar a afirmação do fabricante, ao nível de 5%?"
   ]
  },
  {
   "cell_type": "markdown",
   "metadata": {
    "id": "lYTdEFtbdVXt"
   },
   "source": [
    "$H_0: \\mu = 20$<br>\n",
    "$H_1: \\mu > 20$"
   ]
  },
  {
   "cell_type": "code",
   "execution_count": 1,
   "metadata": {
    "ExecuteTime": {
     "end_time": "2022-04-05T02:07:19.402793Z",
     "start_time": "2022-04-05T02:07:18.165948Z"
    },
    "id": "w024E8jxdVXt",
    "outputId": "a2dc820b-d15c-470f-8ac7-1d7bfa41b628"
   },
   "outputs": [
    {
     "data": {
      "image/png": "[encoded data removed]",
      "text/plain": [
       "<Figure size 576x288 with 1 Axes>"
      ]
     },
     "metadata": {
      "needs_background": "light"
     },
     "output_type": "display_data"
    }
   ],
   "source": [
    "import numpy as np\n",
    "import matplotlib.pyplot as plt\n",
    "\n",
    "mu = 20\n",
    "sigma = 2\n",
    "n = 20\n",
    "Ns = 1000\n",
    "Xm=[] #distribuicao da media amostral\n",
    "for s in range(1,Ns):\n",
    "    x = np.random.normal(mu, sigma, n) # sorteia uma amostra de tamanho n\n",
    "    Xm.append(np.mean(x))\n",
    "plt.figure(figsize=(8,4))\n",
    "a = plt.hist(x=Xm, bins=20, color='#0504aa', alpha=0.7, rwidth=0.85, label = str(Ns), density=True)\n",
    "plt.axvline(x=mu, color='r', linestyle='--', label = 'Media')\n",
    "plt.xlabel(r'$\\bar{X}$', fontsize=20)\n",
    "plt.ylabel(r'$P(\\bar{X})$', fontsize=20)\n",
    "plt.show(True)  "
   ]
  },
  {
   "cell_type": "code",
   "execution_count": 2,
   "metadata": {
    "ExecuteTime": {
     "end_time": "2022-04-05T02:07:19.415588Z",
     "start_time": "2022-04-05T02:07:19.402793Z"
    },
    "id": "woH2_JEJdVXv",
    "outputId": "a3ee0a41-ac46-40ce-8a2e-b653b2d29e0f"
   },
   "outputs": [
    {
     "name": "stdout",
     "output_type": "stream",
     "text": [
      "Xc= 20.780338507463497   Xobs =  20.45\n",
      "Aceitamos H0\n"
     ]
    }
   ],
   "source": [
    "X = [22, 19, 21, 22, 20, 18, 27, 20, 21, 19, 20, 22, 17, 20, 21,18, 25, 16, 20, 21]\n",
    "xobs = np.mean(X)\n",
    "\n",
    "alpha = 95\n",
    "xc = np.percentile(Xm, alpha)\n",
    "print('Xc=',xc,'  Xobs = ', xobs)\n",
    "if(xobs < xc):\n",
    "    print(\"Aceitamos H0\")\n",
    "else:\n",
    "    print(\"Rejeitamos H0\")"
   ]
  },
  {
   "cell_type": "code",
   "execution_count": 3,
   "metadata": {
    "ExecuteTime": {
     "end_time": "2022-04-05T02:07:19.665639Z",
     "start_time": "2022-04-05T02:07:19.415588Z"
    },
    "id": "jPIHpa0HdVXw",
    "outputId": "598103b0-57e5-48bf-9098-22ef7552220b"
   },
   "outputs": [
    {
     "data": {
      "image/png": "[encoded data removed]",
      "text/plain": [
       "<Figure size 576x288 with 1 Axes>"
      ]
     },
     "metadata": {
      "needs_background": "light"
     },
     "output_type": "display_data"
    }
   ],
   "source": [
    "plt.figure(figsize=(8,4))\n",
    "a = plt.hist(x=Xm, bins=20, color='#0504aa', alpha=0.7, rwidth=0.85, density=True)\n",
    "plt.axvline(x=xc, color='red', linestyle='--', label = 'xc1')\n",
    "plt.axvline(x=xobs, color='green', linestyle='--', label = 'xobs')\n",
    "plt.xlabel(r'$\\bar{X}$', fontsize=20)\n",
    "plt.ylabel(r'$P(\\bar{X})$', fontsize=20)\n",
    "plt.legend()\n",
    "plt.show(True) "
   ]
  },
  {
   "cell_type": "markdown",
   "metadata": {
    "id": "nFFLAf65dVXx"
   },
   "source": [
    "**Exemplo**: Um pesquisador deseja estudar o efeito de certa substância no tempo de reação de seres vivos a um certo tipo de estímulo. Um experimento é desenvolvido com cobaias, que são inoculadas com a substância e submetidas a um estímulo elétrico, com seus tempos de reação (em segundos) anotados. Os seguintes valores foram obtidos:\n",
    "T = [9,1;9,3;7,2;13,3;10,9;7,2;9,9;8,0;8,6;7,5]<br>\n",
    "Admite-se que, em geral,  o tempo de reação tem distribuição Normal com média 8 segundos e desvio padrão 2 segundos. Entretanto, o pesquisador desconfia que o tempo médio sofre alteração por influência da substância. Verifique a nível 6% se o tempo de reação das cobaias submetidas à substância foi alterado."
   ]
  },
  {
   "cell_type": "markdown",
   "metadata": {
    "id": "Amh17M9SdVXy"
   },
   "source": [
    "$H_0: \\mu = 8$<br>\n",
    "$H_1: \\mu \\neq 8$"
   ]
  },
  {
   "cell_type": "code",
   "execution_count": 4,
   "metadata": {
    "ExecuteTime": {
     "end_time": "2022-04-05T02:07:20.011783Z",
     "start_time": "2022-04-05T02:07:19.665639Z"
    },
    "id": "4ZsZ9C8ydVX0",
    "outputId": "1ccac6fd-ff7b-4847-ddf3-f4899b268c52"
   },
   "outputs": [
    {
     "data": {
      "image/png": "[encoded data removed]",
      "text/plain": [
       "<Figure size 576x288 with 1 Axes>"
      ]
     },
     "metadata": {
      "needs_background": "light"
     },
     "output_type": "display_data"
    }
   ],
   "source": [
    "import numpy as np\n",
    "import matplotlib.pyplot as plt\n",
    "\n",
    "mu = 8\n",
    "sigma = 2\n",
    "n = 10\n",
    "Ns = 10000\n",
    "Xm=[] #distribuicao da media amostral\n",
    "for s in range(1,Ns):\n",
    "    x = np.random.normal(mu, sigma, n) # sorteia uma amostra de tamanho n\n",
    "    Xm.append(np.mean(x))\n",
    "plt.figure(figsize=(8,4))\n",
    "a = plt.hist(x=Xm, bins=20, color='#0504aa', alpha=0.7, rwidth=0.85, label = str(Ns), density=True)\n",
    "plt.axvline(x=mu, color='r', linestyle='--', label = 'Media')\n",
    "plt.xlabel(r'$\\bar{X}$', fontsize=20)\n",
    "plt.ylabel(r'$P(\\bar{X})$', fontsize=20)\n",
    "plt.show(True)  "
   ]
  },
  {
   "cell_type": "code",
   "execution_count": 5,
   "metadata": {
    "ExecuteTime": {
     "end_time": "2022-04-05T02:07:20.027336Z",
     "start_time": "2022-04-05T02:07:20.013089Z"
    },
    "id": "YYjLl4txdVX3",
    "outputId": "6f75aecd-e666-4531-f0f1-06611ec9fe9b"
   },
   "outputs": [
    {
     "name": "stdout",
     "output_type": "stream",
     "text": [
      "Xc1= 6.805612783356236   Xc2= 9.191443223946163   Xobs =  9.1\n",
      "Aceitamos H0\n"
     ]
    }
   ],
   "source": [
    "X = [9.1,9.3,7.2,13.3,10.9,7.2,9.9,8.0,8.6,7.5]\n",
    "xobs = np.mean(X)\n",
    "\n",
    "alpha = 3\n",
    "xc1 = np.percentile(Xm, alpha)\n",
    "xc2 = np.percentile(Xm, 100-alpha)\n",
    "print('Xc1=',xc1, '  Xc2=', xc2, '  Xobs = ', xobs)\n",
    "if(xobs < xc1 or xobs > xc2):\n",
    "    print(\"Rejeitamos H0\")\n",
    "else:\n",
    "    print(\"Aceitamos H0\")"
   ]
  },
  {
   "cell_type": "code",
   "execution_count": 6,
   "metadata": {
    "ExecuteTime": {
     "end_time": "2022-04-05T02:07:20.260302Z",
     "start_time": "2022-04-05T02:07:20.028805Z"
    },
    "id": "dWyviM2cdVX4",
    "outputId": "a2dc610c-a5a3-4a79-eeae-50cef4c6e793"
   },
   "outputs": [
    {
     "data": {
      "image/png": "[encoded data removed]",
      "text/plain": [
       "<Figure size 576x288 with 1 Axes>"
      ]
     },
     "metadata": {
      "needs_background": "light"
     },
     "output_type": "display_data"
    }
   ],
   "source": [
    "plt.figure(figsize=(8,4))\n",
    "a = plt.hist(x=Xm, bins=20, color='#0504aa', alpha=0.7, rwidth=0.85, density=True)\n",
    "plt.axvline(x=xc1, color='red', linestyle='--', label = 'xc1')\n",
    "plt.axvline(x=xc2, color='orange', linestyle='--', label = 'xc2')\n",
    "plt.axvline(x=xobs, color='green', linestyle='--', label = 'xobs')\n",
    "plt.xlabel(r'$\\bar{X}$', fontsize=20)\n",
    "plt.ylabel(r'$P(\\bar{X})$', fontsize=20)\n",
    "plt.legend()\n",
    "plt.show(True) "
   ]
  },
  {
   "cell_type": "markdown",
   "metadata": {
    "id": "4Frry5g5dVX4"
   },
   "source": [
    "# Valor p"
   ]
  },
  {
   "cell_type": "markdown",
   "metadata": {
    "id": "_-qfSDnIdVX4"
   },
   "source": [
    "Vamos considerar um exemplo. Sejam as hipóteses:<br>\n",
    "$H_0: \\mu = 10$<br>\n",
    "$H_1: \\mu < 10$<br>\n",
    "Assumimos que a população tem distribuição uniforme com desvio padrão $\\sigma$, definido abaixo."
   ]
  },
  {
   "cell_type": "code",
   "execution_count": 7,
   "metadata": {
    "ExecuteTime": {
     "end_time": "2022-04-05T02:07:20.597229Z",
     "start_time": "2022-04-05T02:07:20.260302Z"
    },
    "id": "rp8CNIQgdVX5",
    "outputId": "56e9d895-0f53-442e-81c3-afafd228c583"
   },
   "outputs": [
    {
     "data": {
      "image/png": "[encoded data removed]",
      "text/plain": [
       "<Figure size 576x288 with 1 Axes>"
      ]
     },
     "metadata": {
      "needs_background": "light"
     },
     "output_type": "display_data"
    }
   ],
   "source": [
    "import numpy as np\n",
    "import matplotlib.pyplot as plt\n",
    "\n",
    "mu = 10\n",
    "sigma = 2\n",
    "n = 50\n",
    "Ns = 10000\n",
    "Xm=[] #distribuicao da media amostral\n",
    "for s in range(1,Ns):\n",
    "    x = np.random.normal(mu, sigma, n) # sorteia uma amostra de tamanho n\n",
    "    Xm.append(np.mean(x))\n",
    "plt.figure(figsize=(8,4))\n",
    "a = plt.hist(x=Xm, bins=20, color='#0504aa', alpha=0.7, rwidth=0.85, label = str(Ns), density=True)\n",
    "plt.axvline(x=mu, color='r', linestyle='--', label = 'Media')\n",
    "plt.xlabel(r'$\\bar{X}$', fontsize=20)\n",
    "plt.ylabel(r'$P(\\bar{X})$', fontsize=20)\n",
    "plt.show(True)  \n"
   ]
  },
  {
   "cell_type": "markdown",
   "metadata": {
    "id": "ummw8_F_dVX5"
   },
   "source": [
    "Vamos supor que o valor observado $\\bar{x}_{obs}$ é definido abaixo. De acordo com o nível de significância, podemos aceitar ou rejeitar $H_0$, conforme vemos abaixo."
   ]
  },
  {
   "cell_type": "code",
   "execution_count": 8,
   "metadata": {
    "ExecuteTime": {
     "end_time": "2022-04-05T02:07:21.925505Z",
     "start_time": "2022-04-05T02:07:20.598306Z"
    },
    "id": "S01p6BcDdVX6",
    "outputId": "d204dfdd-343a-49a2-fab1-7db743c2c083"
   },
   "outputs": [
    {
     "data": {
      "image/png": "[encoded data removed]",
      "text/plain": [
       "<Figure size 432x216 with 1 Axes>"
      ]
     },
     "metadata": {
      "needs_background": "light"
     },
     "output_type": "display_data"
    },
    {
     "data": {
      "image/png": "[encoded data removed]",
      "text/plain": [
       "<Figure size 432x216 with 1 Axes>"
      ]
     },
     "metadata": {
      "needs_background": "light"
     },
     "output_type": "display_data"
    },
    {
     "data": {
      "image/png": "[encoded data removed]",
      "text/plain": [
       "<Figure size 432x216 with 1 Axes>"
      ]
     },
     "metadata": {
      "needs_background": "light"
     },
     "output_type": "display_data"
    },
    {
     "data": {
      "image/png": "[encoded data removed]",
      "text/plain": [
       "<Figure size 432x216 with 1 Axes>"
      ]
     },
     "metadata": {
      "needs_background": "light"
     },
     "output_type": "display_data"
    },
    {
     "data": {
      "image/png": "[encoded data removed]",
      "text/plain": [
       "<Figure size 432x216 with 1 Axes>"
      ]
     },
     "metadata": {
      "needs_background": "light"
     },
     "output_type": "display_data"
    },
    {
     "data": {
      "image/png": "[encoded data removed]",
      "text/plain": [
       "<Figure size 432x216 with 1 Axes>"
      ]
     },
     "metadata": {
      "needs_background": "light"
     },
     "output_type": "display_data"
    }
   ],
   "source": [
    "xobs = 9.8\n",
    "alphas = [5,10,20,25, 30,40]\n",
    "for alpha in alphas:\n",
    "    xc = np.percentile(Xm, alpha)\n",
    "    plt.figure(figsize=(6,3))\n",
    "    a = plt.hist(x=Xm, bins=20, color='#0504aa', alpha=0.7, rwidth=0.85, density=True)\n",
    "    plt.axvline(x=xc, color='red', linestyle='--', label = 'xc1')\n",
    "    plt.axvline(x=xobs, color='green', linestyle='--', label = 'xobs')\n",
    "    plt.xlabel(r'$\\bar{X}$', fontsize=20)\n",
    "    plt.ylabel(r'$P(\\bar{X})$', fontsize=20)\n",
    "    plt.legend()\n",
    "    if(xobs < xc):\n",
    "        plt.title(\"Rejeitamos H0\"+r' $\\alpha$ = ' + str(alpha/100))\n",
    "    else:\n",
    "        plt.title(\"Aceitamos H0\"+r' $\\alpha$ = ' + str(alpha/100))\n",
    "    plt.show(True) "
   ]
  },
  {
   "cell_type": "code",
   "execution_count": 9,
   "metadata": {
    "ExecuteTime": {
     "end_time": "2022-04-05T02:07:22.114716Z",
     "start_time": "2022-04-05T02:07:21.925505Z"
    },
    "id": "gxrM9DzadVX6",
    "outputId": "84e0db60-1347-4f70-9375-d5c1987b9983"
   },
   "outputs": [
    {
     "data": {
      "image/png": "[encoded data removed]",
      "text/plain": [
       "<Figure size 576x288 with 1 Axes>"
      ]
     },
     "metadata": {
      "needs_background": "light"
     },
     "output_type": "display_data"
    }
   ],
   "source": [
    "xobs = 9.8\n",
    "xcs = []\n",
    "alphas = []\n",
    "for alpha in np.arange(1,100,2):\n",
    "    xc = np.percentile(Xm, alpha)\n",
    "    xcs.append(xc)\n",
    "    alphas.append(alpha)\n",
    "    \n",
    "plt.figure(figsize=(8,4))\n",
    "plt.plot(alphas,xcs)\n",
    "plt.axhline(y=xobs, color='r', linestyle='--', label = 'Media')\n",
    "plt.xlabel(r'$\\alpha$', fontsize=20)\n",
    "plt.ylabel(r'$\\bar{X}$', fontsize=20)\n",
    "\n",
    "plt.grid(True)\n",
    "plt.show(True)"
   ]
  },
  {
   "cell_type": "markdown",
   "metadata": {
    "id": "5aH8pPd4dVX7"
   },
   "source": [
    "Podemos calcular o valor p: $P(\\bar{X} > \\bar{x}_{obs}|\\mu=\\mu_0) = \\alpha$:"
   ]
  },
  {
   "cell_type": "code",
   "execution_count": 10,
   "metadata": {
    "ExecuteTime": {
     "end_time": "2022-04-05T02:07:22.129828Z",
     "start_time": "2022-04-05T02:07:22.117102Z"
    },
    "id": "gLAGVXENdVX7",
    "outputId": "34af870c-767f-4e4a-97e0-86435b29352c"
   },
   "outputs": [
    {
     "name": "stdout",
     "output_type": "stream",
     "text": [
      "P-valor:  0.23792379237923791\n"
     ]
    }
   ],
   "source": [
    "pvalue = 0\n",
    "for i in range(0, len(Xm)):\n",
    "    if(Xm[i] < xobs):\n",
    "        pvalue = pvalue + 1\n",
    "pvalue = pvalue/len(Xm)\n",
    "print('P-valor: ', pvalue)"
   ]
  },
  {
   "cell_type": "markdown",
   "metadata": {
    "id": "JYx-sklhdVX7"
   },
   "source": [
    "Mostrando no gráfico anterior."
   ]
  },
  {
   "cell_type": "code",
   "execution_count": 11,
   "metadata": {
    "ExecuteTime": {
     "end_time": "2022-04-05T02:07:22.394901Z",
     "start_time": "2022-04-05T02:07:22.130895Z"
    },
    "id": "BUltom_mdVX8",
    "outputId": "740d8b5e-d71d-4c31-e08e-f3ad0ef2effa"
   },
   "outputs": [
    {
     "data": {
      "image/png": "[encoded data removed]",
      "text/plain": [
       "<Figure size 576x288 with 1 Axes>"
      ]
     },
     "metadata": {
      "needs_background": "light"
     },
     "output_type": "display_data"
    }
   ],
   "source": [
    "xobs = 9.8\n",
    "xcs = []\n",
    "alphas = []\n",
    "for alpha in np.arange(1,100,2):\n",
    "    xc = np.percentile(Xm, alpha)\n",
    "    xcs.append(xc)\n",
    "    alphas.append(alpha)\n",
    "    \n",
    "plt.figure(figsize=(8,4))\n",
    "plt.plot(alphas,xcs)\n",
    "plt.axhline(y=xobs, color='red', linestyle='--', label = 'xobs')\n",
    "plt.axvline(x=pvalue*100, color='blue', linestyle='--', label = 'p-valor')\n",
    "plt.xlabel(r'$\\alpha$', fontsize=20)\n",
    "plt.ylabel(r'$\\bar{X}$', fontsize=20)\n",
    "plt.legend()\n",
    "plt.grid(True)\n",
    "plt.show(True)"
   ]
  },
  {
   "cell_type": "code",
   "execution_count": null,
   "metadata": {
    "id": "gWsiPqtkdVX8"
   },
   "outputs": [],
   "source": []
  }
 ],
 "metadata": {
  "colab": {
   "name": "Teste-de-hipoteses.ipynb",
   "provenance": []
  },
  "hide_input": false,
  "kernelspec": {
   "display_name": "Python 3 (ipykernel)",
   "language": "python",
   "name": "python3"
  },
  "language_info": {
   "codemirror_mode": {
    "name": "ipython",
    "version": 3
   },
   "file_extension": ".py",
   "mimetype": "text/x-python",
   "name": "python",
   "nbconvert_exporter": "python",
   "pygments_lexer": "ipython3",
   "version": "3.9.7"
  }
 },
 "nbformat": 4,
 "nbformat_minor": 1
}
